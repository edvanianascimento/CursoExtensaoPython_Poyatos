{
  "nbformat": 4,
  "nbformat_minor": 0,
  "metadata": {
    "colab": {
      "private_outputs": true,
      "provenance": [],
      "mount_file_id": "1oVy365FDGsO2oH5nOJ2UCVzhm1byCdIJ",
      "authorship_tag": "ABX9TyPIaJIxyS5t8i1aucgTJcUe",
      "include_colab_link": true
    },
    "kernelspec": {
      "name": "python3",
      "display_name": "Python 3"
    },
    "language_info": {
      "name": "python"
    }
  },
  "cells": [
    {
      "cell_type": "markdown",
      "metadata": {
        "id": "view-in-github",
        "colab_type": "text"
      },
      "source": [
        "<a href=\"https://colab.research.google.com/github/edvanianascimento/CursoExtensaoPython_Poyatos/blob/main/Curso_Analise_de_Dados_Henrique_Poyatos.ipynb\" target=\"_parent\"><img src=\"https://colab.research.google.com/assets/colab-badge.svg\" alt=\"Open In Colab\"/></a>"
      ]
    },
    {
      "cell_type": "code",
      "execution_count": null,
      "metadata": {
        "id": "vucTr5ha5jSZ"
      },
      "outputs": [],
      "source": [
        "# Importando biblioteca pandas no Python\n",
        "import pandas as pd\n",
        "combustiveis_df = pd.read_excel(\"ca-2021-02.xlsx\")"
      ]
    },
    {
      "cell_type": "code",
      "source": [
        "# Usa o print para ver o dataframe!\n",
        "print(combustiveis_df)"
      ],
      "metadata": {
        "id": "Fj9HmW1w_l7O"
      },
      "execution_count": null,
      "outputs": []
    },
    {
      "cell_type": "code",
      "source": [
        "display(combustiveis_df)"
      ],
      "metadata": {
        "id": "761TTDP-D2aI"
      },
      "execution_count": null,
      "outputs": []
    },
    {
      "cell_type": "code",
      "source": [
        "#Exibe as primeiras 5 linhas\n",
        "\n",
        "display(combustiveis_df.head(n = 100))"
      ],
      "metadata": {
        "id": "YLAxCXk8FFON"
      },
      "execution_count": null,
      "outputs": []
    },
    {
      "cell_type": "code",
      "source": [
        "display(combustiveis_df.sort_values([\"Valor de Venda\"],ascending=True))"
      ],
      "metadata": {
        "id": "a-x-Vf0HF-vA"
      },
      "execution_count": null,
      "outputs": []
    },
    {
      "cell_type": "code",
      "source": [
        "#Comandos Dataframe.shape e Dataframe.describe\n",
        "print(combustiveis_df.shape)\n",
        "#linhas = [0] colunas = [1]\n",
        "print(combustiveis_df.shape[0])"
      ],
      "metadata": {
        "id": "Mf-_HhSgH215"
      },
      "execution_count": null,
      "outputs": []
    },
    {
      "cell_type": "code",
      "source": [
        "# describe() --> é um metodo usado para resumo estatístico da distribuição de cada coluna numérica,  incluindo contagem, média, desvio padrão, valor minimo, quartis e valor maximo.\n",
        "#e se tiver colunas não numericas elas são ignoradas \n",
        "\n",
        "print(combustiveis_df.describe())"
      ],
      "metadata": {
        "id": "UU0_EZTlJvrv"
      },
      "execution_count": null,
      "outputs": []
    },
    {
      "cell_type": "code",
      "source": [
        "print(combustiveis_df.info())"
      ],
      "metadata": {
        "id": "KUV0jwHUKfc6"
      },
      "execution_count": null,
      "outputs": []
    },
    {
      "cell_type": "code",
      "source": [
        "display(combustiveis_df['Revenda'])"
      ],
      "metadata": {
        "id": "hNnyT2KQZoUU"
      },
      "execution_count": null,
      "outputs": []
    },
    {
      "cell_type": "code",
      "source": [
        "ca_df = combustiveis_df[['Revenda','Municipio','Produto','Valor de Venda']]\n",
        "print (ca_df)"
      ],
      "metadata": {
        "id": "TzU-Lf2paAGo"
      },
      "execution_count": null,
      "outputs": []
    },
    {
      "cell_type": "code",
      "source": [
        "#Exibe a quarta linha\n",
        "display(ca_df.loc[3])\n",
        "\n",
        "# Eibe intervalos\n",
        "display(ca_df.loc[9:19])"
      ],
      "metadata": {
        "id": "xhH7JvuUdTW2"
      },
      "execution_count": null,
      "outputs": []
    },
    {
      "cell_type": "code",
      "source": [
        "# Criar um dataframe gas df contendo apenas as 4 colunas (Revenda, Municipio, Produto, Valor de Venda)\n",
        "# Somente Gasolina\n",
        "\n",
        "gas_df = ca_df.loc[ca_df['Produto'] == 'GASOLINA']\n",
        "display(gas_df)\n",
        "\n",
        "display(gas_df['Valor de Venda'].max())"
      ],
      "metadata": {
        "id": "U6ahTWIpeUfk"
      },
      "execution_count": null,
      "outputs": []
    },
    {
      "cell_type": "code",
      "source": [],
      "metadata": {
        "id": "-Bg8tpw7hbsL"
      },
      "execution_count": null,
      "outputs": []
    }
  ]
}