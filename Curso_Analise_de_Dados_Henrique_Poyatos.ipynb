{
  "nbformat": 4,
  "nbformat_minor": 0,
  "metadata": {
    "colab": {
      "private_outputs": true,
      "provenance": [],
      "mount_file_id": "1oVy365FDGsO2oH5nOJ2UCVzhm1byCdIJ",
      "authorship_tag": "ABX9TyPAMdtlXLWzLWxqFZQspM5l",
      "include_colab_link": true
    },
    "kernelspec": {
      "name": "python3",
      "display_name": "Python 3"
    },
    "language_info": {
      "name": "python"
    }
  },
  "cells": [
    {
      "cell_type": "markdown",
      "metadata": {
        "id": "view-in-github",
        "colab_type": "text"
      },
      "source": [
        "<a href=\"https://colab.research.google.com/github/edvanianascimento/CursoExtensaoPython_Poyatos/blob/main/Curso_Analise_de_Dados_Henrique_Poyatos.ipynb\" target=\"_parent\"><img src=\"https://colab.research.google.com/assets/colab-badge.svg\" alt=\"Open In Colab\"/></a>"
      ]
    },
    {
      "cell_type": "code",
      "execution_count": null,
      "metadata": {
        "id": "vucTr5ha5jSZ"
      },
      "outputs": [],
      "source": [
        "# Importando biblioteca pandas no Python\n",
        "import pandas as pd\n",
        "combustiveis_df = pd.read_excel(\"ca-2021-02.xlsx\")"
      ]
    },
    {
      "cell_type": "code",
      "source": [
        "# Usa o print para ver o dataframe!\n",
        "print(combustiveis_df)"
      ],
      "metadata": {
        "id": "Fj9HmW1w_l7O"
      },
      "execution_count": null,
      "outputs": []
    },
    {
      "cell_type": "code",
      "source": [
        "display(combustiveis_df)"
      ],
      "metadata": {
        "id": "761TTDP-D2aI"
      },
      "execution_count": null,
      "outputs": []
    },
    {
      "cell_type": "code",
      "source": [
        "#Exibe as primeiras 5 linhas\n",
        "\n",
        "display(combustiveis_df.head(n = 100))"
      ],
      "metadata": {
        "id": "YLAxCXk8FFON"
      },
      "execution_count": null,
      "outputs": []
    },
    {
      "cell_type": "code",
      "source": [
        "display(combustiveis_df.sort_values([\"Valor de Venda\"],ascending=True))"
      ],
      "metadata": {
        "id": "a-x-Vf0HF-vA"
      },
      "execution_count": null,
      "outputs": []
    },
    {
      "cell_type": "code",
      "source": [
        "#Comandos Dataframe.shape e Dataframe.describe\n",
        "print(combustiveis_df.shape)\n",
        "#linhas = [0] colunas = [1]\n",
        "print(combustiveis_df.shape[0])"
      ],
      "metadata": {
        "id": "Mf-_HhSgH215"
      },
      "execution_count": null,
      "outputs": []
    },
    {
      "cell_type": "code",
      "source": [
        "# describe() --> é um metodo usado para resumo estatístico da distribuição de cada coluna numérica,  incluindo contagem, média, desvio padrão, valor minimo, quartis e valor maximo.\n",
        "#e se tiver colunas não numericas elas são ignoradas \n",
        "\n",
        "print(combustiveis_df.describe())"
      ],
      "metadata": {
        "id": "UU0_EZTlJvrv"
      },
      "execution_count": null,
      "outputs": []
    },
    {
      "cell_type": "code",
      "source": [
        "print(combustiveis_df.info())"
      ],
      "metadata": {
        "id": "KUV0jwHUKfc6"
      },
      "execution_count": null,
      "outputs": []
    },
    {
      "cell_type": "code",
      "source": [
        "display(combustiveis_df['Revenda'])"
      ],
      "metadata": {
        "id": "hNnyT2KQZoUU"
      },
      "execution_count": null,
      "outputs": []
    },
    {
      "cell_type": "code",
      "source": [
        "ca_df = combustiveis_df[['Revenda','Municipio','Produto','Valor de Venda']]\n",
        "print (ca_df)"
      ],
      "metadata": {
        "id": "TzU-Lf2paAGo"
      },
      "execution_count": null,
      "outputs": []
    },
    {
      "cell_type": "code",
      "source": [
        "#Exibe a quarta linha\n",
        "display(ca_df.loc[3])\n",
        "\n",
        "# Eibe intervalos\n",
        "display(ca_df.loc[9:19])"
      ],
      "metadata": {
        "id": "xhH7JvuUdTW2"
      },
      "execution_count": null,
      "outputs": []
    },
    {
      "cell_type": "code",
      "source": [
        "# Criar um dataframe gas df contendo apenas as 4 colunas (Revenda, Municipio, Produto, Valor de Venda)\n",
        "# Somente Gasolina\n",
        "\n",
        "gas_df = ca_df.loc[ca_df['Produto'] == 'GASOLINA']\n",
        "display(gas_df)\n",
        "\n",
        "display(gas_df['Valor de Venda'].max())"
      ],
      "metadata": {
        "id": "U6ahTWIpeUfk"
      },
      "execution_count": null,
      "outputs": []
    },
    {
      "cell_type": "code",
      "source": [
        "display(gas_df[['Revenda','Municipio','Valor de Venda']].max())"
      ],
      "metadata": {
        "id": "-Bg8tpw7hbsL"
      },
      "execution_count": null,
      "outputs": []
    },
    {
      "cell_type": "code",
      "source": [
        "# Dataframe.loc[] com mútiplas condições para filtragem\n",
        "# Preços, postos que vendemestanol na minha cidade \n",
        "# ordenando do menor preço para o maior\n",
        "etanol_cidade = ca_df.loc[(ca_df['Produto'] =='ETANOL') & (ca_df['Municipio'] == 'BAURU') ]\n",
        "display(etanol_cidade.sort_values(by = 'Valor de Venda'))\n"
      ],
      "metadata": {
        "id": "gBPWF25sJh-M"
      },
      "execution_count": null,
      "outputs": []
    },
    {
      "cell_type": "code",
      "source": [
        "# Qual a média de preços dos combustiveis de Gasolina e gasolina aditivada no bairro Bela Vista em São Paulo.\n",
        "\n",
        "combustiveis_df.loc[(combustiveis_df['Bairro'] == 'MOOCA') & (combustiveis_df['Municipio'] == 'SAO PAULO') & (combustiveis_df['Produto'] == 'GASOLINA') | (combustiveis_df['Produto'] == 'GASOLINA')]"
      ],
      "metadata": {
        "id": "T__BMhgLPpI3"
      },
      "execution_count": null,
      "outputs": []
    },
    {
      "cell_type": "code",
      "source": [
        "# Qual a média de preços dos combustíveis GASOLINA e GASOLINA ADITIVADA do Bairro MOOCA em SÃO PAULO? \n",
        "# Qual a média de preços dos combustíveis GASOLINA e GASOLINA ADITIVADA do Bairro MOOCA em SÃO PAULO?\n",
        "display(combustiveis_df.loc[(combustiveis_df['Bairro'] == 'MOOCA') & (combustiveis_df['Municipio'] == 'SAO PAULO') & ((combustiveis_df['Produto'] == 'GASOLINA') | (combustiveis_df['Produto'] == 'GASOLINA ADITIVADA')), ['Valor de Venda']].mean())"
      ],
      "metadata": {
        "id": "weOBUwnNXWIc"
      },
      "execution_count": null,
      "outputs": []
    },
    {
      "cell_type": "code",
      "source": [
        "# Como mostrar média de valor de venda por combustível em todo Brasil\n",
        "media_por_combustivel_df = (ca_df[['Produto','Valor de Venda']].groupby(by='Produto').mean().round(2))\n",
        "display(media_por_combustivel_df)"
      ],
      "metadata": {
        "id": "RDDDNBlnZsPp"
      },
      "execution_count": null,
      "outputs": []
    },
    {
      "cell_type": "code",
      "source": [
        "#Adicionando uma coluna de valor booleano no combustiveis_df chamada \"Ativo\" que, por padrão, vai ser True para \n",
        "# TODAS as linhas\n",
        "combustiveis_df['Ativo'] = True\n",
        "print(combustiveis_df.info())\n",
        "display(combustiveis_df.head())"
      ],
      "metadata": {
        "id": "1p9k8s7Fl9Sc"
      },
      "execution_count": null,
      "outputs": []
    },
    {
      "cell_type": "markdown",
      "source": [
        "Segundo Exemplo de manipulação de dados usando python Pandas veremos inserção de dados remoção de colunas, merge, gráficos.\n",
        "Data: 9 e 10 de fevereiro de 2023"
      ],
      "metadata": {
        "id": "Wee7mxOOSXAY"
      }
    },
    {
      "cell_type": "code",
      "source": [
        "# Importando biblioteca pandas no Pyhton\n",
        "import pandas as pd\n",
        "\n",
        "combustiveis_df = pd.read_excel(\"ca-2021-02.xlsx\")\n",
        "display(combustiveis_df.head())\n",
        "\n"
      ],
      "metadata": {
        "id": "eU7--p_tSOnv"
      },
      "execution_count": null,
      "outputs": []
    },
    {
      "cell_type": "code",
      "source": [
        "#Inserção simples de dado\n",
        "\n",
        "combustiveis_df['Ativo'] = True\n",
        "\n",
        "display(combustiveis_df.head())"
      ],
      "metadata": {
        "id": "wG-bO5rQTiGz"
      },
      "execution_count": null,
      "outputs": []
    },
    {
      "cell_type": "code",
      "source": [
        "# como preencher uma coluna 'Valor de Venda - Status' que verifica o seguinte:\n",
        "# se o valor de venda for maior que 6,5 reais, ele fala que tá Caro..caso contrário, está barato\n",
        "import numpy as np\n",
        "\n",
        "combustiveis_df['Status do Valor de Venda'] = np.where(combustiveis_df['Valor de Venda'] > 6.5, 'Caro', 'Barato')\n",
        "display(combustiveis_df[['Revenda', 'Valor de Venda', 'Status do Valor de Venda']])"
      ],
      "metadata": {
        "id": "KMWDIMQDtWPp"
      },
      "execution_count": null,
      "outputs": []
    },
    {
      "cell_type": "code",
      "source": [
        "# Criar uma coluna \"Obs\" que tenha nela escrito \"MELHOR CIDADE\" quando a coluna Municipio for igual a INDAIATUBA \n",
        "combustiveis_df['Obs'] = [\"Melhor Cidade\" if municipio == 'SAO PAULO' else '' for municipio in combustiveis_df['Municipio']]\n",
        "display(combustiveis_df)"
      ],
      "metadata": {
        "id": "nq7WltO-TlM4"
      },
      "execution_count": null,
      "outputs": []
    },
    {
      "cell_type": "code",
      "source": [
        "# Calcular postos de gasolina por habitante temos na amostragem de combustiveis nov/2021\n",
        "\n",
        "num_habitantes_df = pd.read_csv(\"ibge_num_habitantes_estimado.csv\", sep=\";\")\n",
        "display(num_habitantes_df)"
      ],
      "metadata": {
        "id": "6tJY0gSLXE1Q"
      },
      "execution_count": null,
      "outputs": []
    },
    {
      "cell_type": "code",
      "source": [
        "# Calcular postos de gasolina por habitante temos na amostragem de \n",
        "# combustiveis nov/2021\n",
        "\n",
        "num_habitantes_df = pd.read_csv(\"ibge_num_habitantes_estimado.csv\", sep=\";\")\n",
        "num_habitantes_df.rename(columns={\"Estado\":\"Estado - Sigla\"}, inplace=True)\n",
        "display(num_habitantes_df)"
      ],
      "metadata": {
        "id": "JTpMcfmcrXIg"
      },
      "execution_count": null,
      "outputs": []
    },
    {
      "cell_type": "code",
      "source": [
        "# Faz um MERGE dos dois dataframes \n",
        "colunas = [\"Municipio\", \"Estado - Sigla\"]\n",
        "merge_df = combustiveis_df.merge(num_habitantes_df, how=\"inner\", on=colunas) \n",
        "display(merge_df)\n",
        "print(merge_df.info())"
      ],
      "metadata": {
        "id": "7si3JNj2sao7"
      },
      "execution_count": null,
      "outputs": []
    },
    {
      "cell_type": "code",
      "source": [
        "#Destruir coluna completamente vazia (todas as linhas são nulas)  \n",
        "merge_df.dropna(axis='columns', inplace=True)\n",
        "print(merge_df.info())"
      ],
      "metadata": {
        "id": "rt0KUDJ6sdbh"
      },
      "execution_count": null,
      "outputs": []
    },
    {
      "cell_type": "code",
      "source": [
        "colunas=[\"Regiao - Sigla\", \"Nome da Rua\", \"Numero Rua\", \"Bairro\", \"Cep\", \"Produto\", \"Data da Coleta\", \"Valor de Venda\", \"Unidade de Medida\", \"Bandeira\", \"Ativo\", \"Status do Valor de Venda\"]\n",
        "merge_df.drop(labels=colunas, axis=1, inplace=True)\n",
        "print(merge_df.info())"
      ],
      "metadata": {
        "id": "TVA55HdAt_dz"
      },
      "execution_count": null,
      "outputs": []
    },
    {
      "cell_type": "code",
      "source": [
        "# Remover a linhas duplicadas \n",
        "merge_df.drop_duplicates(inplace=True)\n",
        "display(merge_df.head(100))"
      ],
      "metadata": {
        "id": "TN45lp4Yv7wG"
      },
      "execution_count": null,
      "outputs": []
    },
    {
      "cell_type": "code",
      "source": [
        "# Agrupar e contar quantos postos tem na Cidade \n",
        "postos_por_municipio_df = merge_df.groupby(by=[\"Estado - Sigla\", \"Municipio\", \"NumHabitantes2021\"]).count()\n",
        "postos_por_municipio_df.drop(\"CNPJ da Revenda\", axis=1, inplace=True)\n",
        "postos_por_municipio_df.rename(columns={\"Revenda\": \"NumPostos\"}, inplace=True)\n",
        "display(postos_por_municipio_df)"
      ],
      "metadata": {
        "id": "XmWSb3gVv-CU"
      },
      "execution_count": null,
      "outputs": []
    },
    {
      "cell_type": "code",
      "source": [
        "import matplotlib.pyplot as plt\n",
        "\n",
        "plt.hist(combustiveis_df[\"Valor de Venda\"])"
      ],
      "metadata": {
        "id": "SGG8DxhWxY-h"
      },
      "execution_count": null,
      "outputs": []
    },
    {
      "cell_type": "code",
      "source": [
        "#Colocando Titulo no Grafico \n",
        "plt.hist(combustiveis_df[\"Valor de Venda\"])\n",
        "plt.title(\"Valor médio dos combustiveis - Nov/2021\")"
      ],
      "metadata": {
        "id": "NFQfUfb5tJTi"
      },
      "execution_count": null,
      "outputs": []
    },
    {
      "cell_type": "code",
      "source": [
        "import matplotlib.pyplot as plt\n",
        "\n",
        "#Rótulo horizontal e vertical  \n",
        "plt.hist(combustiveis_df[\"Valor de Venda\"])\n",
        "plt.title(\"Valor médio dos combustiveis - Nov/2021\")\n",
        "plt.xlabel(\"Preço (em reias)\")\n",
        "plt.ylabel(\"Quantidade de Coletas\")\n",
        "\n",
        "#Plota o gráfico\n",
        "plt.show()"
      ],
      "metadata": {
        "id": "eMfKwz4zt_ZE"
      },
      "execution_count": null,
      "outputs": []
    },
    {
      "cell_type": "code",
      "source": [
        "### GRÁFICOS ###\n",
        "\n",
        "import matplotlib.pyplot as plt\n",
        "\n",
        "plt.hist(combustiveis_df[\"Valor de Venda\"])\n",
        "#Vamos colocar um título no gráfico\n",
        "plt.title(\"Preço dos combustíveis - Nov/2021\")\n",
        "#Rótulo horizontal e vertical\n",
        "plt.xlabel(\"Preço (em reais)\")\n",
        "plt.ylabel(\"Quantidade de Coletas\")\n",
        "\n",
        "#Traça a linha vermelha tracejada com o preço médio\n",
        "plt.axvline(combustiveis_df[\"Valor de Venda\"].mean(), color=\"red\", linestyle=\"dashed\", linewidth=5)\n",
        "\n",
        "\n",
        "#\"Plota\" o gráfico\n",
        "plt.show()"
      ],
      "metadata": {
        "id": "l_xu_-c3u1Fr"
      },
      "execution_count": null,
      "outputs": []
    },
    {
      "cell_type": "code",
      "source": [
        "#Consumo médio\n",
        "c_mean = combustiveis_df[\"Valor de Venda\"].groupby(by=combustiveis_df[\"Produto\"]).mean()\n",
        "display(c_mean)"
      ],
      "metadata": {
        "id": "8O2oqXbevZMi"
      },
      "execution_count": null,
      "outputs": []
    },
    {
      "cell_type": "code",
      "source": [
        "#Definindo a área do gráfico\n",
        "plt.figure(figsize=(7,5))\n",
        "\n",
        "#Plotar o gráfico\n",
        "c_mean.plot(\n",
        "    kind=\"barh\",\n",
        "    xlabel=\"Tipo de Combustível\",\n",
        "    ylabel=\"Preço reais/litro\",\n",
        "    color=\"blue\"\n",
        ")\n",
        "\n",
        "#Grid\n",
        "plt.grid()\n",
        "\n",
        "#Exibe\n",
        "plt.show()"
      ],
      "metadata": {
        "id": "N5a_UPUNwSAh"
      },
      "execution_count": null,
      "outputs": []
    },
    {
      "cell_type": "code",
      "source": [
        "import seaborn as sns\n",
        "\n",
        "#Vou definir a área do gráfico\n",
        "plt.figure(figsize=(7,5))\n",
        "\n",
        "#Plotar o gráfico\n",
        "c_mean.plot(\n",
        "    kind=\"barh\",\n",
        "    xlabel=\"Tipo de Combustível\",\n",
        "    ylabel=\"Preço reais/litro\",\n",
        "    title=\"Média de preços por combustível\",\n",
        "    color=\"blue\",\n",
        "    alpha=0.3\n",
        ")\n",
        "\n",
        "#Grid\n",
        "plt.grid()\n",
        "\n",
        "#Remover as linhas superior e lateral direita do gráfico \n",
        "sns.despine()\n",
        "\n",
        "#Exibe\n",
        "plt.show()"
      ],
      "metadata": {
        "id": "WgclnlYmwh8q"
      },
      "execution_count": null,
      "outputs": []
    },
    {
      "cell_type": "code",
      "source": [
        "#c_mean.reset_index(inplace=True) \n",
        "display(c_mean)\n",
        "\n",
        "excel = \"por_litro.xlsx\"\n",
        "c_mean.to_excel(excel, \"Sumário\")"
      ],
      "metadata": {
        "id": "AvKgtVvewr2I"
      },
      "execution_count": null,
      "outputs": []
    },
    {
      "cell_type": "code",
      "source": [
        "#Vamor personalizar a planilha Excel...\n",
        "from openpyxl import load_workbook\n",
        "from openpyxl.styles import PatternFill, Font, Color, Alignment\n",
        "\n",
        "#Vai abrir o Excel no openpyxl\n",
        "wb = load_workbook(excel) # wb = Workbook\n",
        "\n",
        "#Pegar a planilha certa... usando o Sheet Name (nome da planilha)\n",
        "ws = wb[\"Sumário\"] # Work Sheet -> planilha atual, ativa, de trabalho\n",
        "\n",
        "#Vamos pintar o cabeçalho da tabela de \"cinzinha\"\n",
        "cinzinha = PatternFill(\"solid\", fgColor=\"CCCCCC\")\n",
        "coords = [\"A1\", \"B1\"]\n",
        "for coord in coords:\n",
        "  ws[coord].fill = cinzinha\n",
        "\n",
        "#Salvar o Excel\n",
        "wb.save(excel)"
      ],
      "metadata": {
        "id": "tCbBvYYbw1ZE"
      },
      "execution_count": null,
      "outputs": []
    },
    {
      "cell_type": "code",
      "source": [
        "#Vamor personalizar a planilha Excel...\n",
        "from openpyxl import load_workbook\n",
        "from openpyxl.styles import PatternFill, Font, Color, Alignment\n",
        "\n",
        "#Vai abrir o Excel no openpyxl\n",
        "wb = load_workbook(excel) # wb = Workbook\n",
        "\n",
        "#Pegar a planilha certa... usando o Sheet Name (nome da planilha)\n",
        "ws = wb[\"Sumário\"] # Work Sheet -> planilha atual, ativa, de trabalho\n",
        "\n",
        "#Vamos pintar o cabeçalho da tabela de \"cinzinha\"\n",
        "cinzinha = PatternFill(\"solid\", fgColor=\"CCCCCC\")\n",
        "coords = [\"A1\", \"B1\"]\n",
        "for coord in coords:\n",
        "  ws[coord].fill = cinzinha\n",
        "\n",
        "#Onde o preço do combustível for maior ou igual a 6,5 reais (6.5) pinta a fonte\n",
        "#de vermelho e deixa negrito...\n",
        "MAX_ROW = ws.max_row\n",
        "num_linha = 2\n",
        "while (num_linha <= MAX_ROW):\n",
        "  coord = \"B\"+str(num_linha) #coord=\"B{0}\".format(num_linha)\n",
        "  if ws[coord].value >= 6.5:\n",
        "    ws[coord].font = Font(bold=True, color=\"FF0000\")\n",
        "  num_linha = num_linha + 1\n",
        "#Salvar o Excel\n",
        "wb.save(excel)"
      ],
      "metadata": {
        "id": "f5aK3AzdxAcq"
      },
      "execution_count": null,
      "outputs": []
    }
  ]
}